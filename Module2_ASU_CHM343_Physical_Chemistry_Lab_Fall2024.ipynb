{
  "nbformat": 4,
  "nbformat_minor": 0,
  "metadata": {
    "colab": {
      "provenance": [],
      "collapsed_sections": [
        "xufn96oPFQtT",
        "43AaWQ1sL2o3",
        "dJ7mepCaNsz_",
        "4eaRHg_SPeh7",
        "ibH9urrKTpzP",
        "QFWxLw7EOutV",
        "KP3ffbunU3AG",
        "3lIWMezUWcQM"
      ],
      "toc_visible": true
    },
    "kernelspec": {
      "name": "python3",
      "display_name": "Python 3"
    },
    "language_info": {
      "name": "python"
    }
  },
  "cells": [
    {
      "cell_type": "markdown",
      "source": [
        "#**Module 2: Properties of Gases (Experiment 2)**\n",
        "\n",
        "[![Open In Colab](https://raw.githubusercontent.com/CHM343/Images/main/colab-badge.svg)](https://colab.research.google.com/github/CHM343/Modules/blob/main/Module2_ASU_CHM343_Physical_Chemistry_Lab_Fall2024.ipynb)\n",
        "\n",
        "[**nbviewer**](https://nbviewer.org/github/CHM343/Modules/blob/main/Module2_ASU_CHM343_Physical_Chemistry_Lab_Fall2024.ipynb)"
      ],
      "metadata": {
        "id": "0zIV1yr_EhnN"
      }
    },
    {
      "cell_type": "markdown",
      "source": [
        "#### *ASU Online (CHM 343) Physical Chemistry Lab*\n",
        "\n",
        "\n",
        "\n",
        "Jeff Yarger, School of Molecular Sciences, Arizona State University.\n",
        "\n",
        "email: jeff.yarger@asu.edu"
      ],
      "metadata": {
        "id": "Hcvn1bL6KlJE"
      }
    },
    {
      "cell_type": "markdown",
      "source": [
        "## **Module 2: Overview**\n"
      ],
      "metadata": {
        "id": "xufn96oPFQtT"
      }
    },
    {
      "cell_type": "markdown",
      "source": [
        "Determine the speed of sound and heat capacity ratios of molecular gases using acoustic interferometry, and develop a fundamental understand of how molecular structure and dynamics affects the thermodynamic properties of gases. Common refrigerant gases will be used, allowing students to better understand the molecular properties that dictate refrigerant gas properties and environmental impact. Remotely accessible experiments in combination with computational chemistry resources allows for a fundamental understanding and connection to be developed into the molecular thermodynamics of common refrigerant gases.\n",
        "\n",
        "\n",
        "**Learning Objectives**\n",
        "\n",
        "By the end of this module, students will be able to:\n",
        "\n",
        "1.   Experimental determine the sound velocity of molecular gases.\n",
        "2.   Computationally determine thermochemical properties of molecular gases.\n",
        "3.   Perform modern processing and analysis of experimental and computational chemistry data.\n",
        "4.   Develop chemical problem solving skills - Determine the molecular properties of an unknown refrigerant gas.\n",
        "\n",
        "\n"
      ],
      "metadata": {
        "id": "naaj40msLFp5"
      }
    },
    {
      "cell_type": "markdown",
      "source": [
        "## **Module 2: Learning Materials**"
      ],
      "metadata": {
        "id": "43AaWQ1sL2o3"
      }
    },
    {
      "cell_type": "markdown",
      "source": [
        "###**Readings**\n",
        "Read the following:\n",
        "* [Lab Handout](https://biopchem.education/wp-content/uploads/2024/08/lab2_handout_chm343_fall2024.pdf)\n",
        "* [Blog Post - 'Acoustic Interferometry Pchem Cloud Lab'](https://biopchem.education/2022/01/17/acoustic-interferometry-pchem-cloud-lab/)\n",
        "*  There are several journal articles that introduce acoustic interferometry and determining the speed of sound and heat capacity ratios of gases. An example of one such article (Determining the Speed of Sound and Heat Capacity Ratios of Gases by Acoustic Interferometry. Journal of Chemical Education, 2017, 94, 1995-1998). It is critical that students learn to the skill of researching known literature for every scientific lab (DYOR).\n",
        "\n",
        "###**Videos**\n",
        "* Vimeo ([ASU CHM 343 - Pchem Lab - Showcase](https://vimeo.com/showcase/8778563))\n",
        "* YouTube ([PchemLab channel](https://www.youtube.com/@PchemLab))\n",
        "\n",
        "###**Information & Links**\n",
        "* **COMPUTATIONAL:**\n",
        "  * Molecular Calculator ([molecalc.cloud](https://molecalc.cloud/)) - Thermochemistry Computational Component.\n",
        "\n",
        "\n",
        "* **EXPERIMENTAL:**\n",
        "  * ASU Remote Access (Cloud) Acoustic Interferometer.\n",
        "    * Please use this publicly shared [Google Sheet](https://docs.google.com/spreadsheets/d/1m3t2D7tZZfqujGfvdLWMf01vuql_QsPCOh5ImI2RxK8/edit?usp=sharing) to sign-up for the remote acoustic interferometer (Aug 30 - Sept 4).\n",
        "    * Access using NoMachine (remote desktop)\n",
        "      * connected to the ASU VPN (https://sslvpn.asu.edu)\n",
        "      * From the NoMachine Client connect to nx://10.200.97.9:4000 (username: chm343 password: BioPchem^343)\n",
        "\n",
        "* **Notebook - Data/Error Analysis - Reporting:**\n",
        "  * [Colab Template](https://github.com/CHM343/Labs/blob/main/ASU_CHM343_Physical_Chemistry_Lab_Colab_Notebook_Template_2024.ipynb)"
      ],
      "metadata": {
        "id": "ysSyjeABL-R1"
      }
    },
    {
      "cell_type": "markdown",
      "source": [
        "## **Module 2: Quiz**\n",
        "\n",
        "[ASU Canvas Course Site](https://canvas.asu.edu/) - Due: Sept 4th    (15 pts)\n",
        "\n"
      ],
      "metadata": {
        "id": "dJ7mepCaNsz_"
      }
    },
    {
      "cell_type": "markdown",
      "source": [
        "Students are allowed to take quizzes up to 5 times with the highest score being kept.  This quiz closes on Sept. 4th (at 11:59 pm AZ time).  Quiz questions are part of the 'participation' portion of this lab course, and can be openly discussed by students in online 'lab' (e.g., on slack discussion channel)."
      ],
      "metadata": {
        "id": "9lZpxFswNwBH"
      }
    },
    {
      "cell_type": "markdown",
      "source": [
        "### Question 1"
      ],
      "metadata": {
        "id": "4eaRHg_SPeh7"
      }
    },
    {
      "cell_type": "markdown",
      "source": [
        "One of the primary objectives of the CHM343 properties of gases lab is to experimentally interrogate common refrigerant molecular gases and better understand their molecular thermodynamic properties (which dictates their ability to be good refrigerants). The 4 most commonly used modern refrigerant gases are difluromethane (R32), 1,1-difluoroethane (R152a), 1,1,1,2-tetrafluoroethane (R134a), and 2,3,3,3-tetrafluoropropene (R1234yf). Which of these molecular gases has the greatest vibrational contribution to its heat capacity at standard temperature and pressure (STP)?\n",
        "\n",
        "<br>\n",
        "\n",
        "(**NOTE:** This can most easily be interrogated using computational chemistry, i.e., molecalc.cloud)\n",
        "\n",
        "<br>\n",
        "\n",
        "Muliple Choice\n",
        "\n",
        "*   Difluromethane (R32)\n",
        "*   1,1-Difluoroethane (R152a)\n",
        "*   1,1,1,2-Tetrafluoroethane (R134a)\n",
        "*   2,3,3,3-Tetrafluoropropene (R1234yf)\n",
        "\n"
      ],
      "metadata": {
        "id": "cnibpDtlZDwb"
      }
    },
    {
      "cell_type": "markdown",
      "source": [
        "### Question 2"
      ],
      "metadata": {
        "id": "ibH9urrKTpzP"
      }
    },
    {
      "cell_type": "markdown",
      "source": [
        "It is well known that sound waves travel through different gases at different speeds. Perhaps the most popular demonstration of this phenomenon are the modulated voices of people who have inhaled Helium.  The objective of lab 1 is to understand how the molecular composition of a gas determines the speed of sound waves passing through it. To make sure we are grounded in reality, we would specifically like to explain this table of the speed of sound through various gases from the Handbook of Chemistry and Physics. These speeds are for gases at standard atmospheric pressure (1 atm) and the indicated reference temperatures.\n",
        "\n",
        "|  Name | Molar Mass (g/mol)  |  Temperature (C) |  Speed (m/s) |   \n",
        "|---|---|---|---|\n",
        "| Carbon Dioxide  | 44.01  |  0 |  258 |\n",
        "|  Ammonia |  17.031 |  0 | 414  |\n",
        "| Neon  | 20.179  | 0  |  433 |\n",
        "| Helium  | 4  |  0 | 973  |\n",
        "| Ethane  | 30.07  | 27  |  312 |\n",
        "| Argon  | 39.95  | 27  |  323 |\n",
        "| Oxygen  | 31.99  | 27  |  330 |\n",
        "| Dry Air  |  28.96 | 25  |  346 |\n",
        "| Nitrogen  | 28.01  | 27  | 353  |\n",
        "|  Methane |  16.04 | 27  | 450  |\n",
        "| Hydrogen  | 2.01  | 27  |  1320 |\n",
        "\n",
        "\n",
        "After staring at this table a bit a few trends emerge. First of all, the speed of sound seems to decrease as the mass of the gas increases. But clearly mass is not the only relevant factor. For example, Argon is heavier than Ethane but sound travels more quickly through Argon. The same is true for Neon and Ammonia.\n",
        "\n",
        "How can we make sense of these outliers? Note that in both cases the lighter molecule nevertheless contains more atoms. For example, a molecule of Ethane has 8 atoms whereas the noble Argon has only one. So perhaps the number of atoms is what determines the speed of sound, where a greater number of atoms implies a lower speed? However, this hypothesis fails as well. For example, Methane has more atoms than Argon but the speed of sound through Methane is greater.\n",
        "\n",
        "To make sense of these data, basic thermodynamic properties of gases need to be considered and the speed of sound in an ideal gas is found to depends on three factors: temperature, mass and heat capacity. Heat capacity is essentially a proxy for the number of atoms. The general idea is that molecules can absorb energy into the vibrations and rotations of their constituent atoms relative to one another. So molecules with more atoms have more opportunities to absorb heat.\n",
        "\n",
        "In the case of oxygen (O$_2$) and ethane (C$_2$H$_6$) gas, they have very similar mass and the speed of sound is measured at the same temperature (27$^o$C), so the effect of heat capacity is the dominant distinguishing factor. What molecular degree of freedom most contributes to the decrease in the speed of sound of ethane gas compared to oxygen gas? (and hence the increase in the heat capacity of ethane gas compared to oxygen gas at standard temperature and pressure, STP)\n",
        "\n",
        "<br>\n",
        "<br>\n",
        "\n",
        "Muliple Choice (best answer)\n",
        "\n",
        "*   Translational\n",
        "*   Rotational\n",
        "*   Vibrational"
      ],
      "metadata": {
        "id": "5THOMCPkZKXK"
      }
    },
    {
      "cell_type": "markdown",
      "source": [
        "### Question 3"
      ],
      "metadata": {
        "id": "QFWxLw7EOutV"
      }
    },
    {
      "cell_type": "markdown",
      "source": [
        "The speed of sound of various gases is experimentally measured using an acoustic interferometer. In order to use an acoustic interferometer to obtain accurate experimental measurements of a gases sound velocity, it is critical to have an accurate and precise determination of the length (L) of the acoustic interferometer tube. Measuring the length with a ruler, for example, does not provide an accurate or precise enough determination of the tube length. What is commonly done is to start with a gas that has a very well-known sound velocity and use it to calibrate and/or measure the length of the acoustic interferometer tube to a high accuracy and precision. Argon gas is often used, which has a known sound velocity of 320.0 m/s at 20$^o$C.\n",
        "\n",
        "A remote acoustic interferometer is setup for ASU Online CHM343 students. The current setup uses a 2 foot long 1 inch diameter PC tube with square end caps that have drilled holes for the earbud (speaker), lavalier mic (microphone), needle gas inlet (on earbud side), and small hole for gas exit (microphone side). The microphone is on one side and the speaker (earbud) on the other side. A microcontroller is setup with solenoid valves to allow computer control of different input gases. A flow meter is included after the solenoid manifold and a camera is available for a live view of the instrument and flow meter to monitor the gas flow into the tube.\n",
        "\n",
        "Audacity was used to generate white noise sound that was played through the speaker as well as record the resulting sound generated through the gas filled tube through a microphone. Argon gas at a temperature of 20$^o$C was flowed into the remote acoustic interferometer and acoustic interference data collected. The data was Fourier Transformed (FT) using the Analyze > Plot Spectrum feature in Audacity. This data was exported in a text format and uploaded to the CHM343 GitHub Acoustic Interferometer repository in the Data subfolder. The filename is CHM343_Quiz_Remote_Acoustic_Interferometer_Argon_Spectrum.txt\n",
        "\n",
        "Use this experimental data to determine an accurate acoustic interferometer tube length (or students are welcome to collect their own data on the remote acoustic interferometer to answer this quiz question.)\n",
        "\n",
        "<br>\n",
        "\n",
        "**Report your numerical answer in meters (m).**"
      ],
      "metadata": {
        "id": "IeEgAqx4O0Ug"
      }
    },
    {
      "cell_type": "markdown",
      "source": [
        "## **Module 2: Discussion**\n",
        "\n",
        "[ASU Canvas Course Site](https://canvas.asu.edu/) - Due: Sept 8th    (5 pts)\n"
      ],
      "metadata": {
        "id": "KP3ffbunU3AG"
      }
    },
    {
      "cell_type": "markdown",
      "source": [
        "The speed of sound in a gas depends on its temperature, mass and adiabatic index. Interpret the adiabatic index in terms of the more intuitive concept of heat capacity, and then discuss the connection between heat capacity and the compressibility of a gas."
      ],
      "metadata": {
        "id": "z51pHfUrVEU_"
      }
    },
    {
      "cell_type": "markdown",
      "source": [
        "## **Module 2: Notebook**\n",
        "\n",
        "[ASU Canvas Course Site](https://canvas.asu.edu/) - Due: Sept 8th    (100 pts)\n"
      ],
      "metadata": {
        "id": "3lIWMezUWcQM"
      }
    },
    {
      "cell_type": "markdown",
      "source": [
        "Submit your completed colab notebook on the ASU Canvas website.  The best way to submit your completed colab notebook is to share with 'General Access' - 'Anyone with the Link' (Commenter). Copy link and submit the URL in the ASU Canvas Notebook assignment.\n",
        "\n",
        "<img src=\"https://raw.githubusercontent.com/CHM343/Images/main/Colab_Google_Share_Link_Commenter_Screenshot.png\" width=\"300\" alt=\"Google Shared Link Image\" />\n",
        "\n",
        "\n",
        "Alternatively, you can submit the .ipynb file."
      ],
      "metadata": {
        "id": "AiGYGEv6WlMd"
      }
    }
  ]
}