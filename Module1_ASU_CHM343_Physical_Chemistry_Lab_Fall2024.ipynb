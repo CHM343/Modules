{
  "nbformat": 4,
  "nbformat_minor": 0,
  "metadata": {
    "colab": {
      "provenance": [],
      "collapsed_sections": [
        "xufn96oPFQtT",
        "43AaWQ1sL2o3",
        "dJ7mepCaNsz_",
        "4eaRHg_SPeh7",
        "ibH9urrKTpzP",
        "KP3ffbunU3AG",
        "3lIWMezUWcQM"
      ],
      "toc_visible": true
    },
    "kernelspec": {
      "name": "python3",
      "display_name": "Python 3"
    },
    "language_info": {
      "name": "python"
    }
  },
  "cells": [
    {
      "cell_type": "markdown",
      "source": [
        "#**Module 1: Working with Experimental & Computational Data (Experiment 1)**\n",
        "\n",
        "[![Open In Colab](https://raw.githubusercontent.com/CHM343/Images/main/colab-badge.svg)](https://colab.research.google.com/github/CHM343/Labs/blob/main/Module1_ASU_CHM343_Physical_Chemistry_Lab_Fall2024.ipynb)\n",
        "\n",
        "[**nbviewer**](https://nbviewer.org/github/CHM343/Labs/blob/main/Module1_ASU_CHM343_Physical_Chemistry_Lab_Fall2024.ipynb)"
      ],
      "metadata": {
        "id": "0zIV1yr_EhnN"
      }
    },
    {
      "cell_type": "markdown",
      "source": [
        "## *ASU Online (CHM 343) Physical Chemistry Lab*\n",
        "\n",
        "\n",
        "\n",
        "Jeff Yarger, School of Molecular Sciences, Arizona State University.\n",
        "\n",
        "email: jeff.yarger@asu.edu"
      ],
      "metadata": {
        "id": "Hcvn1bL6KlJE"
      }
    },
    {
      "cell_type": "markdown",
      "source": [
        "## **Module 1: Overview**\n"
      ],
      "metadata": {
        "id": "xufn96oPFQtT"
      }
    },
    {
      "cell_type": "markdown",
      "source": [
        "Execution of laboratory experiments and data collection is typically only one component in the process of successful laboratory research. The preparation for an experiment is critical and usually involves becoming familiar with the fundamental concepts, instrumentation and/or computational methods. The process of doing your own research (DYOR) through literature and background informational searching is a vital and often an underutilized component. The treatment of experimental and/or computational data, i.e., data and error analysis, is arguably the most generally applicable component and most critical for evaluating the success of laboratory experiments as well as drawing conclusions and reporting the findings of experiments and/or computations.\n",
        "\n",
        "To emphasize the importance of data and error analysis, experimental and computational data will be provided to students and the focus will be completely on the treatment, visualization and reporting of experimental and computational data. It is recommended that students use a Colab (Jupyter) notebook, which allows for complete data and error analysis as well as visualization and reporting. (A Colab or Jupyter Notebook is an open-source freely available web application for creating and sharing computational documents, and offers a simple, streamlined, document-centric experience.)\n",
        "\n",
        "\n",
        "**Learning Objectives**\n",
        "\n",
        "By the end of this module, students will be able to:\n",
        "\n",
        "1.   Develop skills for data and error analysis (using a modern advanced data science environment - Jupyter Notebook)\n",
        "2.   Perform common calculations and presentation of experimental and computational data\n",
        "3.   Determine uncertainties in data and results\n",
        "\n",
        "\n"
      ],
      "metadata": {
        "id": "naaj40msLFp5"
      }
    },
    {
      "cell_type": "markdown",
      "source": [
        "## **Module 1: Learning Materials**"
      ],
      "metadata": {
        "id": "43AaWQ1sL2o3"
      }
    },
    {
      "cell_type": "markdown",
      "source": [
        "###**Readings**\n",
        "\n",
        "Read the following:\n",
        "\n",
        "* [Error Analysis Review](https://biopchem.education/wp-content/uploads/2021/08/error_analysis_review.pdf)\n",
        "* [Working with Experimental and Computational Data - Notebook](https://github.com/CHM343/Labs/blob/main/Pchem_Exp1_Fall2024.ipynb)\n",
        "\n",
        "###**Videos**\n",
        "\n",
        "* Vimeo ([ASU CHM 343 - Pchem Lab - Showcase](https://vimeo.com/showcase/8778563))\n",
        "* YouTube ([PchemLab channel](https://www.youtube.com/@PchemLab))"
      ],
      "metadata": {
        "id": "ysSyjeABL-R1"
      }
    },
    {
      "cell_type": "markdown",
      "source": [
        "## **Module 1: Quiz**\n",
        "\n",
        "[ASU Canvas Course Site](https://canvas.asu.edu/) - Due: Aug 28    (10 pts)\n",
        "\n"
      ],
      "metadata": {
        "id": "dJ7mepCaNsz_"
      }
    },
    {
      "cell_type": "markdown",
      "source": [
        "Students are allowed to take quizzes up to 5 times with the highest score being kept.  This quiz closes on Aug. 28th (at 11:59 pm AZ time).  Quiz questions are part of the 'participation' portion of this lab course, and can be openly discussed by students in online 'lab' (e.g., on slack discussion channel)."
      ],
      "metadata": {
        "id": "9lZpxFswNwBH"
      }
    },
    {
      "cell_type": "markdown",
      "source": [
        "### Question 1"
      ],
      "metadata": {
        "id": "4eaRHg_SPeh7"
      }
    },
    {
      "cell_type": "markdown",
      "source": [
        "The evaluation of the temperature dependence of rate constants $k$ yields mechanistic insight into chemical reactions, notably by determining the energy barrier separating reactants and reaction products. An experimental measurement of the rate constant from temperatures between 300-350 K have been recorded and saved as an ascii (csv) file on the CHM343 GitHub Data repository:\n",
        "\n",
        "\n",
        "* [Temp_Rate_Constant_kerr_Example_Data_CHM343.txt](https://raw.githubusercontent.com/CHM343/Data/main/Temp_Rate_Constant_kerr_Example_Data_CHM343.txt)\n",
        "\n",
        "\n",
        "There are three columns of data: (1) the measured temperature, (2) the measured rate constant, and (3) the uncertainty in the measured rate constant.\n",
        "\n",
        "The temperature dependence of rate constants ($k$) in chemistry and biochemistry can often be modeled according to the Arrhenius equation:\n",
        "\n",
        "\\begin{equation}\n",
        "k(T) = A e^{-\\frac{E_a}{RT}}\n",
        "\\end{equation}\n",
        "\n",
        "where $A$ is the pre-exponential factor, $E_a$ is the activation energy, $R$ is the gas constant, and $T$ is the absolute temperature. To determine the parameters $A$ and $E_a$, the rate constant of a reaction of interest is hence recorded at several temperatures.  Use nonlinear least-squared (NLLS) curve fitting of the data to determine the activation energy.\n",
        "\n",
        "\n",
        "NOTE: Typically, functional relationships are often transformed to linear equations. Although this transformation holds the obvious attraction of affording straightforward data evaluation by graphical means or via conventional spreadsheet software (e.g., Excel or Google Sheets), students should be dissuaded from employing it. The transformation affects the distribution of errors (or uncertainties) $\\sigma _i$ for the individual data points $i$ and hence can yield quite different fit parameter values.\n",
        "\n",
        "Muliple Choice (best answer)\n",
        "\n",
        "\n",
        "\n",
        "*   49.0 kJ/mol\n",
        "*   53.5 kJ/mol\n",
        "*   8.0 x 10$^6$ kJ/mol\n",
        "*   4.6 x 10$^7$ kJ/mol\n",
        "\n"
      ],
      "metadata": {
        "id": "cnibpDtlZDwb"
      }
    },
    {
      "cell_type": "markdown",
      "source": [
        "### Question 2"
      ],
      "metadata": {
        "id": "ibH9urrKTpzP"
      }
    },
    {
      "cell_type": "markdown",
      "source": [
        "A common method for volume measurement is to use an electronic pipette. A routine check is commonly done using a high precision balance (gravimetric measurement) to determine the accuracy and precision of a pipette. This is commonly done by performing repeated measurements of the weight of a pipetted out volume of distilled water.\n",
        "\n",
        "1.0 ml of distilled water (density = 0.997) was pipetted 10 times and weighted on a calibrated Mettler-Toledo XSR105 balance ($\\pm$0.01 mg). This data was recorded and saved as an ascii (csv) file on the CHM343 GitHub Data repository: [2024_08_24_Weight_1ml_Water_Pipette_Data.txt](https://raw.githubusercontent.com/CHM343/Data/main/2024_08_24_Weight_1ml_Water_Pipette_Data.txt)\n",
        "\n",
        "<br>\n",
        "\n",
        "What is the precision of this pipette in delivering 1 ml of water?\n",
        "\n",
        "(or in other words, what is the standard deviation in 10 repeated measurements)\n",
        "\n",
        "<br>\n",
        "<br>\n",
        "\n",
        "Muliple Choice (best answer)\n",
        "\n",
        "*   0.8 ml\n",
        "*   0.08 ml\n",
        "*   0.008 ml\n",
        "*   0.0008 ml\n",
        "*   0.00008 ml"
      ],
      "metadata": {
        "id": "5THOMCPkZKXK"
      }
    },
    {
      "cell_type": "markdown",
      "source": [
        "## **Module 1: Discussion**\n",
        "\n",
        "[ASU Canvas Course Site](https://canvas.asu.edu/) - Due: Sept 1    (5 pts)\n"
      ],
      "metadata": {
        "id": "KP3ffbunU3AG"
      }
    },
    {
      "cell_type": "markdown",
      "source": [
        "One of the key steps to data and error analysis of the acoustic interferometry data for Argon Gas is making a plot of the Node $#$ versus Frequency and using a linear fit to obtain the slope and associated error. This slope is related to the speed of sound (which is known for Argon, 320 m/s) and the cavity length (i.e., the length of the tube). It is this length that you need to determine.\n",
        "\n",
        "Where you able to obtain a plot similar to the one below? and where you able to fit the data and easily determine the slope?  The slope is $c/2L$, so with the known speed of sound (c=320 m/s), you can determine the length of the cavity, $L$.\n",
        "\n",
        "<img src=\"https://raw.githubusercontent.com/CHM343/Images/main/Ar_Gas_Node_Freq_Example_Plot.png?raw=true\" width=\"500\" alt=\"Ar Gas - Node vs Freq Plot\" />\n",
        "\n",
        "Please use this discussion forum to provide useful information and your plots and associated fitting of the data."
      ],
      "metadata": {
        "id": "z51pHfUrVEU_"
      }
    },
    {
      "cell_type": "markdown",
      "source": [
        "## **Module 1: Notebook**\n",
        "\n",
        "[ASU Canvas Course Site](https://canvas.asu.edu/) - Due: Sept 1    (100 pts)\n"
      ],
      "metadata": {
        "id": "3lIWMezUWcQM"
      }
    },
    {
      "cell_type": "markdown",
      "source": [
        "Submit your completed colab notebook on the ASU Canvas website.  The best way to submit your completed colab notebook is to share with 'General Access' - 'Anyone with the Link' (Commenter). Copy link and submit the URL in the ASU Canvas Notebook assignment.\n",
        "\n",
        "<img src=\"https://raw.githubusercontent.com/CHM343/Images/main/Colab_Google_Share_Link_Commenter_Screenshot.png\" width=\"300\" alt=\"Google Shared Link Image\" />\n",
        "\n",
        "\n",
        "Alternatively, you can submit the .ipynb file."
      ],
      "metadata": {
        "id": "AiGYGEv6WlMd"
      }
    }
  ]
}